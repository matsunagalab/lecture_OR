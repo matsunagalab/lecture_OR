{
  "nbformat": 4,
  "nbformat_minor": 0,
  "metadata": {
    "colab": {
      "provenance": [],
      "toc_visible": true,
      "include_colab_link": true
    },
    "kernelspec": {
      "name": "python3",
      "display_name": "Python 3"
    },
    "language_info": {
      "name": "python"
    }
  },
  "cells": [
    {
      "cell_type": "markdown",
      "metadata": {
        "id": "view-in-github",
        "colab_type": "text"
      },
      "source": [
        "<a href=\"https://colab.research.google.com/github/matsunagalab/lecture_OR/blob/main/solver01.ipynb\" target=\"_parent\"><img src=\"https://colab.research.google.com/assets/colab-badge.svg\" alt=\"Open In Colab\"/></a>"
      ]
    },
    {
      "cell_type": "markdown",
      "source": [
        "# ソルバ1: PuLPを使ってみる"
      ],
      "metadata": {
        "id": "jgv4kjYr0DSk"
      }
    },
    {
      "cell_type": "markdown",
      "source": [
        "## Google Colabを使ってみる"
      ],
      "metadata": {
        "id": "vHxHTtQr0JQ2"
      }
    },
    {
      "cell_type": "markdown",
      "source": [
        "Google Colaboratory (Colab)は、ブラウザ上でプログラミングを行うためのwebサービスです。これを使うと個々のデバイスに環境構築を行う手間が省けるので、今回はこのwebサービスを用いて演習を行います。"
      ],
      "metadata": {
        "id": "BLKbOoT1zALY"
      }
    },
    {
      "cell_type": "markdown",
      "source": [
        "まず最初に、この文書は単なるブログ記事ではなくて、「Jupyter notebook」という形式になっていて、灰色のかたまりに書いてあるプログラムコードをブラウザ上で編集し実行することができます。"
      ],
      "metadata": {
        "id": "ju95FRk2zP4z"
      }
    },
    {
      "cell_type": "markdown",
      "source": [
        "コードが書いてある灰色のかたまりを「セル」と呼びます。セルに書いたコードを実行するには、ShiftとReturnを同時に押します(Shift+Return)。いろいろと書き換えて実験してみてください。変数を用いた場合、実行した順に変数にメモリ領域が割り当てられて、次のセルを実行する際にそれを利用することができます。"
      ],
      "metadata": {
        "id": "slxqUg3DzZWR"
      }
    },
    {
      "cell_type": "markdown",
      "source": [
        "下のセルのPythonコードをShiftとReturnを同時に押して実行してみましょう。1+1の結果である2が出力されたでしょうか？確認したら自分でセルを編集して1+1以外の式を実行してみましょう(例えば1+2など)"
      ],
      "metadata": {
        "id": "arOsQ9IjzjMN"
      }
    },
    {
      "cell_type": "code",
      "source": [
        "1 + 1"
      ],
      "metadata": {
        "colab": {
          "base_uri": "https://localhost:8080/"
        },
        "id": "uVGqOw3hzkjK",
        "outputId": "dd8b9684-183e-4f98-d827-0ed8f87b09e2"
      },
      "execution_count": 1,
      "outputs": [
        {
          "output_type": "execute_result",
          "data": {
            "text/plain": [
              "2"
            ]
          },
          "metadata": {},
          "execution_count": 1
        }
      ]
    },
    {
      "cell_type": "markdown",
      "source": [
        "ちなみにコードの実行はGoogleのサーバで行われて、その結果がブラウザへ返されています。したがって、余りに重たいメモリを消費する計算はやめたほうが良いですが、一人ひとりへは少ないCPUやメモリ資源だけ割り当てられていてそれ以上使えないようになっているので気をつかう必要はありません。"
      ],
      "metadata": {
        "id": "937MSPV-zpDL"
      }
    },
    {
      "cell_type": "markdown",
      "source": [
        "編集したら、Ctrl+s (Windows) または Cmd+s (Mac) を押すとnotebookを保存することができます。"
      ],
      "metadata": {
        "id": "lEDwivalzvcT"
      }
    },
    {
      "cell_type": "markdown",
      "source": [
        "## 覚えるべきPythonの型と文法"
      ],
      "metadata": {
        "id": "004jNaprskKY"
      }
    },
    {
      "cell_type": "markdown",
      "source": [
        "これから学ぶPuLPを最低限使うためには以下の文法を知っておく必要があります。一つずつ内容を理解しながら実行してください"
      ],
      "metadata": {
        "id": "49LRUPvusp8p"
      }
    },
    {
      "cell_type": "code",
      "source": [
        "# 整数を保持する変数の作成\n",
        "my_var = 1\n",
        "print(my_var)"
      ],
      "metadata": {
        "colab": {
          "base_uri": "https://localhost:8080/"
        },
        "id": "_V-UsI7ms1uT",
        "outputId": "1ab117a9-4f7f-456b-c99b-7fe7ee98c149"
      },
      "execution_count": 2,
      "outputs": [
        {
          "output_type": "stream",
          "name": "stdout",
          "text": [
            "1\n"
          ]
        }
      ]
    },
    {
      "cell_type": "code",
      "source": [
        "# 文字列を保持する変数の作成\n",
        "my_var = 'x1'\n",
        "print(my_var)"
      ],
      "metadata": {
        "colab": {
          "base_uri": "https://localhost:8080/"
        },
        "id": "-6I5VolztyQB",
        "outputId": "a69d047d-9162-45f0-e9b0-03da494e3622"
      },
      "execution_count": 3,
      "outputs": [
        {
          "output_type": "stream",
          "name": "stdout",
          "text": [
            "x1\n"
          ]
        }
      ]
    },
    {
      "cell_type": "code",
      "source": [
        "# 変数を用いた演算\n",
        "x = 1\n",
        "y = 2\n",
        "z = x + y\n",
        "print(z)"
      ],
      "metadata": {
        "colab": {
          "base_uri": "https://localhost:8080/"
        },
        "id": "tr2nLnLGwJMk",
        "outputId": "1303c6e2-ed16-4122-e8a9-c48e192fbffc"
      },
      "execution_count": 4,
      "outputs": [
        {
          "output_type": "stream",
          "name": "stdout",
          "text": [
            "3\n"
          ]
        }
      ]
    },
    {
      "cell_type": "code",
      "source": [
        "# リストの作成\n",
        "my_list = [1, 2, 3, 4, 5]\n",
        "print(my_list)\n",
        "\n",
        "my_list[1]"
      ],
      "metadata": {
        "colab": {
          "base_uri": "https://localhost:8080/"
        },
        "id": "umPke-jzt6U_",
        "outputId": "aa946bc4-52ae-4403-f980-eada7a9b461a"
      },
      "execution_count": 5,
      "outputs": [
        {
          "output_type": "stream",
          "name": "stdout",
          "text": [
            "[1, 2, 3, 4, 5]\n"
          ]
        },
        {
          "output_type": "execute_result",
          "data": {
            "text/plain": [
              "2"
            ]
          },
          "metadata": {},
          "execution_count": 5
        }
      ]
    },
    {
      "cell_type": "code",
      "source": [
        "# リストの要素について繰り返すループ\n",
        "for v in my_list:\n",
        "     y = v + 1\n",
        "     print('element = ', y)"
      ],
      "metadata": {
        "colab": {
          "base_uri": "https://localhost:8080/"
        },
        "id": "JffWs0VOt6qF",
        "outputId": "63dec326-118c-4368-b719-1e0f2c5946c4"
      },
      "execution_count": 6,
      "outputs": [
        {
          "output_type": "stream",
          "name": "stdout",
          "text": [
            "element =  2\n",
            "element =  3\n",
            "element =  4\n",
            "element =  5\n",
            "element =  6\n"
          ]
        }
      ]
    },
    {
      "cell_type": "markdown",
      "source": [
        "## 練習問題1: リストの要素の和を求めてみよう"
      ],
      "metadata": {
        "id": "evvBYqyTvy9I"
      }
    },
    {
      "cell_type": "code",
      "source": [
        "# 以下のリストの要素の和を求めてください\n",
        "my_list = [1, 2, 3, 4, 5]\n",
        "\n",
        "# ここにコードを書いて実行"
      ],
      "metadata": {
        "id": "p_cZM2mNwaTk"
      },
      "execution_count": 7,
      "outputs": []
    },
    {
      "cell_type": "markdown",
      "source": [
        "## PuLPの紹介とインストール"
      ],
      "metadata": {
        "id": "ckjlwEos0RIk"
      }
    },
    {
      "cell_type": "markdown",
      "source": [
        "今回使うパッケージであるPuLPをインストールします。下のセルのPythonコードをShift+Returnを押して実行してください。"
      ],
      "metadata": {
        "id": "tA-t_0eM0JK4"
      }
    },
    {
      "cell_type": "code",
      "execution_count": 8,
      "metadata": {
        "colab": {
          "base_uri": "https://localhost:8080/"
        },
        "id": "gDzz_WH4zBBG",
        "outputId": "c587247c-23df-4128-b2d7-0adc3ff1e8cd"
      },
      "outputs": [
        {
          "output_type": "stream",
          "name": "stdout",
          "text": [
            "Collecting pulp\n",
            "  Downloading PuLP-2.9.0-py3-none-any.whl.metadata (5.4 kB)\n",
            "Downloading PuLP-2.9.0-py3-none-any.whl (17.7 MB)\n",
            "\u001b[2K   \u001b[90m━━━━━━━━━━━━━━━━━━━━━━━━━━━━━━━━━━━━━━━━\u001b[0m \u001b[32m17.7/17.7 MB\u001b[0m \u001b[31m84.3 MB/s\u001b[0m eta \u001b[36m0:00:00\u001b[0m\n",
            "\u001b[?25hInstalling collected packages: pulp\n",
            "Successfully installed pulp-2.9.0\n"
          ]
        }
      ],
      "source": [
        "!pip install pulp"
      ]
    },
    {
      "cell_type": "markdown",
      "source": [
        "インストールが成功したか確認するために、pythonでPuLPパッケージをimportしてみます。なにも出力されなければ成功です。"
      ],
      "metadata": {
        "id": "YxQK9olH0TQs"
      }
    },
    {
      "cell_type": "code",
      "source": [
        "# PuLPをロードする\n",
        "from pulp import *"
      ],
      "metadata": {
        "id": "B8_Bv7Ev0g-A"
      },
      "execution_count": 9,
      "outputs": []
    },
    {
      "cell_type": "markdown",
      "source": [
        "## 線形計画問題を解いてみよう"
      ],
      "metadata": {
        "id": "849b6Tpg0cnp"
      }
    },
    {
      "cell_type": "markdown",
      "source": [
        "以下の簡単な線形計画問題をPuLPで解いてみましょう"
      ],
      "metadata": {
        "id": "M1xs58nw0fa3"
      }
    },
    {
      "cell_type": "markdown",
      "source": [
        "$$\n",
        "{\\rm minimize}\\  z=-x_1-x_2\\\\\n",
        "{\\rm subject\\ to}\\ \\ 2x_1+x_2 \\le 2\\\\\n",
        "x_1 + 2x_2 \\le 2\\\\\n",
        "x_1,x_2 \\ge 0\n",
        "$$"
      ],
      "metadata": {
        "id": "N8SEUWHh0Z_s"
      }
    },
    {
      "cell_type": "code",
      "source": [
        "# 問題を定義する、最小化する場合\n",
        "problem = LpProblem('Problem Name', LpMinimize)\n",
        "\n",
        "# 決定変数 𝑥_1≥0の定義\n",
        "x1 = LpVariable('x1', 0, None, LpContinuous)\n",
        "\n",
        "# 決定変数 𝑥_2≥0の定義\n",
        "x2 = LpVariable('x2', 0, None, LpContinuous)\n",
        "\n",
        "# 目的関数 𝑧=-𝑥_1-𝑥_2 の定義\n",
        "problem += - x1 - x2\n",
        "\n",
        "# 制約条件 2𝑥_1+𝑥_2≤2 の定義\n",
        "problem += 2*x1 + x2 <= 2.0\n",
        "\n",
        "# 制約条件 𝑥_1+2𝑥_2≤2 の定義\n",
        "problem += x1 + 2*x2 <= 2.0\n",
        "\n",
        "# 問題を出力して確認\n",
        "print()\n",
        "print(\"-\" * 10)\n",
        "print(problem)\n",
        "\n",
        "# 定義した問題を解く\n",
        "problem.solve()\n",
        "\n",
        "# 解けたかどうかのチェック\n",
        "# “Not Solved”, “Infeasible”, “Unbounded”, “Undefined” or “Optimal”.\n",
        "print()\n",
        "print(\"-\" * 10)\n",
        "print('Status:', LpStatus[problem.status])\n",
        "\n",
        "# 最適解の出力\n",
        "for v in problem.variables():\n",
        "    print(v.name, '=', v.varValue)\n",
        "\n",
        "# 最適値の出力\n",
        "print('The optimum value is ', value(problem.objective))"
      ],
      "metadata": {
        "colab": {
          "base_uri": "https://localhost:8080/"
        },
        "id": "W3gUkaAF0Pu9",
        "outputId": "a7acda69-81fa-426a-c729-32f6bc2a8f3e"
      },
      "execution_count": 10,
      "outputs": [
        {
          "output_type": "stream",
          "name": "stdout",
          "text": [
            "\n",
            "----------\n",
            "Problem_Name:\n",
            "MINIMIZE\n",
            "-1*x1 + -1*x2 + 0\n",
            "SUBJECT TO\n",
            "_C1: 2 x1 + x2 <= 2\n",
            "\n",
            "_C2: x1 + 2 x2 <= 2\n",
            "\n",
            "VARIABLES\n",
            "x1 Continuous\n",
            "x2 Continuous\n",
            "\n",
            "\n",
            "----------\n",
            "Status: Optimal\n",
            "x1 = 0.66666667\n",
            "x2 = 0.66666667\n",
            "The optimum value is  -1.33333334\n"
          ]
        },
        {
          "output_type": "stream",
          "name": "stderr",
          "text": [
            "/usr/local/lib/python3.10/dist-packages/pulp/pulp.py:1298: UserWarning: Spaces are not permitted in the name. Converted to '_'\n",
            "  warnings.warn(\"Spaces are not permitted in the name. Converted to '_'\")\n"
          ]
        }
      ]
    },
    {
      "cell_type": "markdown",
      "source": [
        "## 練習問題2: 標準形を解く (第3回小レポート課題より)"
      ],
      "metadata": {
        "id": "VUZ0f_AY0vV3"
      }
    },
    {
      "cell_type": "markdown",
      "source": [
        "過去にシンプレックス法の練習問題で解いた問題を、PuLPに解かせてください。自分で解いた結果と一致することを確認しましょう。"
      ],
      "metadata": {
        "id": "vamFeyTx1B4t"
      }
    },
    {
      "cell_type": "markdown",
      "source": [
        "$$\n",
        "{\\rm minimize}\\  z=-4x_1\\\\\n",
        "{\\rm subject\\ to}\\ \\ x_1+x_2+x_3 = 2\\\\\n",
        "x_1 + 3x_2 + x_4 = 3\\\\\n",
        "x_1, x_2, x_3, x_4 \\ge 0\\\\\n",
        "$$\n",
        "\n",
        "![スクリーンショット 2022-11-15 10.20.01.png](data:image/png;base64,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)\n"
      ],
      "metadata": {
        "id": "h_tfpI821FGx"
      }
    },
    {
      "cell_type": "code",
      "source": [
        "# ここにコードを書いて実行"
      ],
      "metadata": {
        "id": "bOgxXeuY00jZ"
      },
      "execution_count": null,
      "outputs": []
    },
    {
      "cell_type": "markdown",
      "source": [
        "## 練習問題3: 標準形を解く (第4回小レポート課題より)"
      ],
      "metadata": {
        "id": "UEAF4jke1Vil"
      }
    },
    {
      "cell_type": "markdown",
      "source": [
        "過去の小レポートをPuLPに解かせましょう。自分で解いた結果と一致することを確認しましょう。"
      ],
      "metadata": {
        "id": "6s5LB-0C1puO"
      }
    },
    {
      "cell_type": "markdown",
      "source": [
        "$$\n",
        "{\\rm minimize}\\  z=-2x_1-x_2-x_3\\\\\n",
        "{\\rm subject\\ to}\\ \\ x_1+2x_2 = 12\\\\\n",
        "x_1 + 4x_2 + 2x_3 = 20\\\\\n",
        "x_1, x_2, x_3 \\ge 0\\\\\n",
        "$$\n"
      ],
      "metadata": {
        "id": "-Nw_R25k1mbR"
      }
    },
    {
      "cell_type": "code",
      "source": [
        "# ここにコードを書いて実行"
      ],
      "metadata": {
        "id": "YTvnwmiwuQf9"
      },
      "execution_count": null,
      "outputs": []
    }
  ]
}